{
 "cells": [
  {
   "cell_type": "code",
   "execution_count": 1,
   "id": "24861f0f",
   "metadata": {},
   "outputs": [],
   "source": [
    "# State of thr graph\n",
    "\n",
    "from typing_extensions import TypedDict\n",
    "\n",
    "class State(TypedDict):\n",
    "    graph_state:str"
   ]
  },
  {
   "cell_type": "code",
   "execution_count": 2,
   "id": "1b5dd0f8",
   "metadata": {},
   "outputs": [
    {
     "data": {
      "text/plain": [
       "__main__.State['graph_state']"
      ]
     },
     "execution_count": 2,
     "metadata": {},
     "output_type": "execute_result"
    }
   ],
   "source": [
    "#Nodes \n",
    "\n",
    "State['graph_state']"
   ]
  },
  {
   "cell_type": "code",
   "execution_count": 24,
   "id": "be30e1eb",
   "metadata": {},
   "outputs": [],
   "source": [
    "# defining nodes\n",
    "\n",
    "def node1(state):\n",
    "    print('before node1',state['graph_state'])\n",
    "    print('--------Node1-------')\n",
    "    return {\"graph_state\":state['graph_state']+'Welcome'}\n",
    "\n",
    "def node2(state):\n",
    "    print('before node2',state['graph_state'])\n",
    "    print('--------Node2-------')\n",
    "    return {\"graph_state\":state['graph_state']+'to the datahack Summit!'}\n",
    "\n",
    "def node3(state):\n",
    "    print('before node2',state['graph_state'])\n",
    "    print('--------Node3-------')\n",
    "    return {\"graph_state\":state['graph_state']+'to Bengaluru'}\n"
   ]
  },
  {
   "cell_type": "code",
   "execution_count": 25,
   "id": "a1b8dcd7",
   "metadata": {},
   "outputs": [],
   "source": [
    "import random\n",
    "from typing import Literal\n",
    "\n",
    "def decide_node(state) -> Literal['node2','node3']:\n",
    "    user_input = state['graph_state']\n",
    "    if random.random() < 0.5:\n",
    "        return \"node2\"\n",
    "    return \"node3\""
   ]
  },
  {
   "cell_type": "code",
   "execution_count": 26,
   "id": "b6485e77",
   "metadata": {},
   "outputs": [
    {
     "name": "stdout",
     "output_type": "stream",
     "text": [
      "0.21276563233208667\n"
     ]
    }
   ],
   "source": [
    "print(random.random())"
   ]
  },
  {
   "cell_type": "code",
   "execution_count": 27,
   "id": "4386cec0",
   "metadata": {},
   "outputs": [
    {
     "data": {
      "image/png": "[encoded data removed]",
      "text/plain": [
       "<IPython.core.display.Image object>"
      ]
     },
     "metadata": {},
     "output_type": "display_data"
    }
   ],
   "source": [
    "from IPython.display import Image, display\n",
    "from langgraph.graph import StateGraph,START,END\n",
    "\n",
    "#build graph\n",
    "builder = StateGraph(State)\n",
    "\n",
    "#defining the nodes\n",
    "builder.add_node(\"node1\",node1)\n",
    "builder.add_node(\"node2\",node2)\n",
    "builder.add_node(\"node3\",node3)\n",
    "\n",
    "#defining the edges\n",
    "builder.add_edge(START,'node1')\n",
    "builder.add_conditional_edges('node1',decide_node)\n",
    "builder.add_edge('node2',END)\n",
    "builder.add_edge('node3',END)\n",
    "\n",
    "graph = builder.compile()\n",
    "\n",
    "display(Image(graph.get_graph().draw_mermaid_png()))\n",
    "\n"
   ]
  },
  {
   "cell_type": "code",
   "execution_count": 28,
   "id": "b79160e8",
   "metadata": {},
   "outputs": [
    {
     "name": "stdout",
     "output_type": "stream",
     "text": [
      "before node1 Hi there,it's Aswin! \n",
      "--------Node1-------\n",
      "before node2 Hi there,it's Aswin! Welcome\n",
      "--------Node3-------\n"
     ]
    },
    {
     "data": {
      "text/plain": [
       "{'graph_state': \"Hi there,it's Aswin! Welcometo Bengaluru\"}"
      ]
     },
     "execution_count": 28,
     "metadata": {},
     "output_type": "execute_result"
    }
   ],
   "source": [
    "graph.invoke({\"graph_state\":\"Hi there,it's Aswin! \"})"
   ]
  },
  {
   "cell_type": "code",
   "execution_count": 44,
   "id": "59bcc5da",
   "metadata": {},
   "outputs": [
    {
     "name": "stdout",
     "output_type": "stream",
     "text": [
      "<class 'list'>\n",
      "==================================\u001b[1m Ai Message \u001b[0m==================================\n",
      "Name: Agent\n",
      "\n",
      "Hello ,I'm your virtual travel assistant for Bengaluru ,How can I help you plan your visit?\n",
      "================================\u001b[1m Human Message \u001b[0m=================================\n",
      "Name: User\n",
      "\n",
      "I'm visiting Bengaluru for the first time. Can you suggest key places to see?\n",
      "==================================\u001b[1m Ai Message \u001b[0m==================================\n",
      "Name: Agent\n",
      "\n",
      "Certainly. Some must-visit places include Lalbagh Botanical Garden, Bangalore Palace, and Cubbon Park. Are you interested in cultural sites, nature, or food experiences?\n",
      "================================\u001b[1m Human Message \u001b[0m=================================\n",
      "Name: Miguel\n",
      "\n",
      "I'm interested in a mix of history and local cuisine.\n",
      "==================================\u001b[1m Ai Message \u001b[0m==================================\n",
      "Name: Agent\n",
      "\n",
      "Great choice. You can explore Tipu Sultan's Summer Palace for history, then head to VV Puram Food Street for authentic local dishes.\n"
     ]
    }
   ],
   "source": [
    "from pprint import pprint\n",
    "from langchain_core.messages import AIMessage,HumanMessage\n",
    "\n",
    "messages = [AIMessage(content=\"Hello ,I'm your virtual travel assistant for Bengaluru ,How can I help you plan your visit?\",name='Agent')]\n",
    "print(type(messages))\n",
    "messages.append(HumanMessage(content=\"I'm visiting Bengaluru for the first time. Can you suggest key places to see?\", name=\"User\"))\n",
    "messages.append(AIMessage(content=\"Certainly. Some must-visit places include Lalbagh Botanical Garden, Bangalore Palace, and Cubbon Park. Are you interested in cultural sites, nature, or food experiences?\", name=\"Agent\"))\n",
    "messages.append(HumanMessage(content=\"I'm interested in a mix of history and local cuisine.\", name=\"Miguel\"))\n",
    "messages.append(AIMessage(content=\"Great choice. You can explore Tipu Sultan's Summer Palace for history, then head to VV Puram Food Street for authentic local dishes.\", name=\"Agent\"))\n",
    "\n",
    "for msg in messages:\n",
    "    msg.pretty_print()"
   ]
  },
  {
   "cell_type": "code",
   "execution_count": 99,
   "id": "fbfc4a28",
   "metadata": {},
   "outputs": [
    {
     "data": {
      "text/plain": [
       "ChatOpenAI(client=<openai.resources.chat.completions.completions.Completions object at 0x7c4db9fa51c0>, async_client=<openai.resources.chat.completions.completions.AsyncCompletions object at 0x7c4db9fac350>, root_client=<openai.OpenAI object at 0x7c4dbb586b40>, root_async_client=<openai.AsyncOpenAI object at 0x7c4dbb586ff0>, model_name='o4-mini-2025-04-16', model_kwargs={}, openai_api_key=SecretStr('**********'))"
      ]
     },
     "execution_count": 99,
     "metadata": {},
     "output_type": "execute_result"
    }
   ],
   "source": [
    "from dotenv import load_dotenv\n",
    "load_dotenv()\n",
    "from langchain_openai import ChatOpenAI\n",
    "llm = ChatOpenAI(model ='o4-mini-2025-04-16')\n",
    "llm"
   ]
  },
  {
   "cell_type": "code",
   "execution_count": 100,
   "id": "0e38fd98",
   "metadata": {},
   "outputs": [
    {
     "name": "stdout",
     "output_type": "stream",
     "text": [
      "==================================\u001b[1m Ai Message \u001b[0m==================================\n",
      "\n",
      "Here’s a 1–2-day plan blending Bengaluru’s rich history with its mouth-watering local eats:\n",
      "\n",
      "Day 1 – Heritage & South-Indian Classics  \n",
      "1. Tipu Sultan’s Summer Palace (Lalbagh Road)  \n",
      "   - Late-18th-century teak structure with ornate arches and frescoes.  \n",
      "   - Spend 45–60 minutes exploring the gardens and museum exhibits.  \n",
      "2. Bangalore Fort & Kemp Fort Hill (near KR Market)  \n",
      "   - Remnants of Tipu’s fortifications, bastions and the Delhi Gate.  \n",
      "   - Quick stroll through the adjacent KR Market for flower stalls and local vibe.  \n",
      "3. Lunch at Mavalli Tiffin Rooms (MTR) or Vidyarthi Bhavan  \n",
      "   - Iconic South-Indian breakfast/lunch spots since the 1920s.  \n",
      "   - Try their rava idli, masala dosa and strong filter coffee.  \n",
      "4. Visvesvaraya Industrial & Technological Museum (Cubbon Park)  \n",
      "   - Hands-on science exhibits—fun and educational.  \n",
      "   - If time allows, visit the nearby Attara Kacheri (High Court building).  \n",
      "5. Evening at VV Puram Food Street (Visvesvaraya Layout)  \n",
      "   - A row of stalls serving dosas, chaats, grilled corn, jalebi and more.  \n",
      "   - Sample fish tikka, churmuri (puffed rice chaat) and mysore pak for dessert.  \n",
      "\n",
      "Day 2 – Palace Grandeur & Modern Bites  \n",
      "1. Bangalore Palace (Vasanth Nagar)  \n",
      "   - Tudor-style architecture, elaborately furnished rooms and sprawling grounds.  \n",
      "   - Guided tours available; photography is allowed in most areas.  \n",
      "2. Tipu’s Armory & Gumbaz (Sriramapura Road, near KR Market)  \n",
      "   - Pay homage to Tipu Sultan at his mausoleum (Gumbaz) and view his collection of arms.  \n",
      "3. Lunch at CTR (Shivajinagar) or South Thindies (JC Road)  \n",
      "   - CTR is famed for paper masala dosa served on a banana leaf.  \n",
      "   - South Thindies offers homestyle Andhra meals and biryani.  \n",
      "4. Bull Temple & Nandi Hills (A brief drive north, if you have an afternoon)  \n",
      "   - Visit the 16th-century granite Nandi statue, then drive up to Nandi Hills for sunset.  \n",
      "5. Dinner at a microbrewery or pub in Indiranagar/M.G. Road  \n",
      "   - Try craft beers at Toit, Arbor Brewing Company or Windmills Craftworks.  \n",
      "   - Pair with burgers, kebabs or wood-fired pizzas for a modern twist.  \n",
      "\n",
      "Bonus Picks (if you have extra time)  \n",
      "• National Gallery of Modern Art (KG Road) – Colonial mansion housing Indian art.  \n",
      "• HAL Aerospace Museum (Marathahalli) – Aviation exhibits from HAL’s history.  \n",
      "• Commercial Street & Brigade Road – For local shopping and street-food stalls.  \n",
      "\n",
      "Tips  \n",
      "• Traffic can be heavy—plan your day by geographic cluster.  \n",
      "• Download ride-hailing apps (Uber/Ola) and use the metro where convenient (Purple & Green lines).  \n",
      "• Carry cash for food stalls; most accept only small denominations.  \n",
      "\n",
      "Enjoy your blend of Bengaluru’s storied past and its vibrant culinary scene!\n"
     ]
    }
   ],
   "source": [
    "result = llm.invoke(messages)\n",
    "result.pretty_print()"
   ]
  },
  {
   "cell_type": "code",
   "execution_count": 101,
   "id": "dd12940d",
   "metadata": {},
   "outputs": [
    {
     "data": {
      "text/plain": [
       "'Here’s a 1–2-day plan blending Bengaluru’s rich history with its mouth-watering local eats:\\n\\nDay 1 – Heritage & South-Indian Classics  \\n1. Tipu Sultan’s Summer Palace (Lalbagh Road)  \\n   - Late-18th-century teak structure with ornate arches and frescoes.  \\n   - Spend 45–60 minutes exploring the gardens and museum exhibits.  \\n2. Bangalore Fort & Kemp Fort Hill (near KR Market)  \\n   - Remnants of Tipu’s fortifications, bastions and the Delhi Gate.  \\n   - Quick stroll through the adjacent KR Market for flower stalls and local vibe.  \\n3. Lunch at Mavalli Tiffin Rooms (MTR) or Vidyarthi Bhavan  \\n   - Iconic South-Indian breakfast/lunch spots since the 1920s.  \\n   - Try their rava idli, masala dosa and strong filter coffee.  \\n4. Visvesvaraya Industrial & Technological Museum (Cubbon Park)  \\n   - Hands-on science exhibits—fun and educational.  \\n   - If time allows, visit the nearby Attara Kacheri (High Court building).  \\n5. Evening at VV Puram Food Street (Visvesvaraya Layout)  \\n   - A row of stalls serving dosas, chaats, grilled corn, jalebi and more.  \\n   - Sample fish tikka, churmuri (puffed rice chaat) and mysore pak for dessert.  \\n\\nDay 2 – Palace Grandeur & Modern Bites  \\n1. Bangalore Palace (Vasanth Nagar)  \\n   - Tudor-style architecture, elaborately furnished rooms and sprawling grounds.  \\n   - Guided tours available; photography is allowed in most areas.  \\n2. Tipu’s Armory & Gumbaz (Sriramapura Road, near KR Market)  \\n   - Pay homage to Tipu Sultan at his mausoleum (Gumbaz) and view his collection of arms.  \\n3. Lunch at CTR (Shivajinagar) or South Thindies (JC Road)  \\n   - CTR is famed for paper masala dosa served on a banana leaf.  \\n   - South Thindies offers homestyle Andhra meals and biryani.  \\n4. Bull Temple & Nandi Hills (A brief drive north, if you have an afternoon)  \\n   - Visit the 16th-century granite Nandi statue, then drive up to Nandi Hills for sunset.  \\n5. Dinner at a microbrewery or pub in Indiranagar/M.G. Road  \\n   - Try craft beers at Toit, Arbor Brewing Company or Windmills Craftworks.  \\n   - Pair with burgers, kebabs or wood-fired pizzas for a modern twist.  \\n\\nBonus Picks (if you have extra time)  \\n• National Gallery of Modern Art (KG Road) – Colonial mansion housing Indian art.  \\n• HAL Aerospace Museum (Marathahalli) – Aviation exhibits from HAL’s history.  \\n• Commercial Street & Brigade Road – For local shopping and street-food stalls.  \\n\\nTips  \\n• Traffic can be heavy—plan your day by geographic cluster.  \\n• Download ride-hailing apps (Uber/Ola) and use the metro where convenient (Purple & Green lines).  \\n• Carry cash for food stalls; most accept only small denominations.  \\n\\nEnjoy your blend of Bengaluru’s storied past and its vibrant culinary scene!'"
      ]
     },
     "execution_count": 101,
     "metadata": {},
     "output_type": "execute_result"
    }
   ],
   "source": [
    "\n",
    "result.content"
   ]
  },
  {
   "cell_type": "code",
   "execution_count": 102,
   "id": "5cebcf21",
   "metadata": {},
   "outputs": [
    {
     "name": "stdout",
     "output_type": "stream",
     "text": [
      "bound=ChatOpenAI(client=<openai.resources.chat.completions.completions.Completions object at 0x7c4db9fa51c0>, async_client=<openai.resources.chat.completions.completions.AsyncCompletions object at 0x7c4db9fac350>, root_client=<openai.OpenAI object at 0x7c4dbb586b40>, root_async_client=<openai.AsyncOpenAI object at 0x7c4dbb586ff0>, model_name='o4-mini-2025-04-16', model_kwargs={}, openai_api_key=SecretStr('**********')) kwargs={'tools': [{'type': 'function', 'function': {'name': 'multiply', 'description': 'Multiply a and b', 'parameters': {'properties': {'a': {'type': 'integer'}, 'b': {'type': 'integer'}}, 'required': ['a', 'b'], 'type': 'object'}}}]} config={} config_factories=[]\n"
     ]
    }
   ],
   "source": [
    "\n",
    "def multiply(a:int,b:int) -> int :\n",
    "    \"\"\" \n",
    "    Multiply a and b\n",
    "\n",
    "    \"\"\"\n",
    "    return a*b\n",
    "\n",
    "llm_with_tools = llm.bind_tools([multiply])\n",
    "print(llm_with_tools)"
   ]
  },
  {
   "cell_type": "code",
   "execution_count": 92,
   "id": "729713b5",
   "metadata": {},
   "outputs": [],
   "source": [
    "no_tool_call = llm_with_tools.invoke(\n",
    "    [HumanMessage(content='Hey! How are you ?',name = 'User')]\n",
    ")"
   ]
  },
  {
   "cell_type": "code",
   "execution_count": 93,
   "id": "30db09b0",
   "metadata": {},
   "outputs": [
    {
     "name": "stdout",
     "output_type": "stream",
     "text": [
      "==================================\u001b[1m Ai Message \u001b[0m==================================\n",
      "\n",
      "Hi! I’m doing well, thanks for asking. How are you? What can I help you with today?\n"
     ]
    }
   ],
   "source": [
    "no_tool_call.pretty_print()"
   ]
  },
  {
   "cell_type": "code",
   "execution_count": 94,
   "id": "bd4080c9",
   "metadata": {},
   "outputs": [
    {
     "data": {
      "text/plain": [
       "'Hi! I’m doing well, thanks for asking. How are you? What can I help you with today?'"
      ]
     },
     "execution_count": 94,
     "metadata": {},
     "output_type": "execute_result"
    }
   ],
   "source": [
    "no_tool_call.content"
   ]
  },
  {
   "cell_type": "code",
   "execution_count": 104,
   "id": "5f3c42b6",
   "metadata": {},
   "outputs": [
    {
     "data": {
      "text/plain": [
       "AIMessage(content='', additional_kwargs={'tool_calls': [{'id': 'call_xDkBH7wkY6XetfUo8ZDSp06r', 'function': {'arguments': '{\"a\":5,\"b\":6}', 'name': 'multiply'}, 'type': 'function'}], 'refusal': None}, response_metadata={'token_usage': {'completion_tokens': 218, 'prompt_tokens': 55, 'total_tokens': 273, 'completion_tokens_details': {'accepted_prediction_tokens': 0, 'audio_tokens': 0, 'reasoning_tokens': 192, 'rejected_prediction_tokens': 0}, 'prompt_tokens_details': {'audio_tokens': 0, 'cached_tokens': 0}}, 'model_name': 'o4-mini-2025-04-16', 'system_fingerprint': None, 'id': 'chatcmpl-CTiCtEQHv7MZRl0fojjCGGpROnfT5', 'service_tier': 'default', 'finish_reason': 'tool_calls', 'logprobs': None}, id='run--cf346195-263d-481c-bbbd-38402a27b552-0', tool_calls=[{'name': 'multiply', 'args': {'a': 5, 'b': 6}, 'id': 'call_xDkBH7wkY6XetfUo8ZDSp06r', 'type': 'tool_call'}], usage_metadata={'input_tokens': 55, 'output_tokens': 218, 'total_tokens': 273, 'input_token_details': {'audio': 0, 'cache_read': 0}, 'output_token_details': {'audio': 0, 'reasoning': 192}})"
      ]
     },
     "execution_count": 104,
     "metadata": {},
     "output_type": "execute_result"
    }
   ],
   "source": [
    "tool_call  = llm_with_tools.invoke(\n",
    "    [HumanMessage(content=f\"multilpy(5,6)\",name='User')]\n",
    ")\n",
    "tool_call"
   ]
  },
  {
   "cell_type": "code",
   "execution_count": 105,
   "id": "8df7519d",
   "metadata": {},
   "outputs": [
    {
     "name": "stdout",
     "output_type": "stream",
     "text": [
      "==================================\u001b[1m Ai Message \u001b[0m==================================\n",
      "Tool Calls:\n",
      "  multiply (call_xDkBH7wkY6XetfUo8ZDSp06r)\n",
      " Call ID: call_xDkBH7wkY6XetfUo8ZDSp06r\n",
      "  Args:\n",
      "    a: 5\n",
      "    b: 6\n"
     ]
    }
   ],
   "source": [
    "tool_call.pretty_print()"
   ]
  },
  {
   "cell_type": "code",
   "execution_count": 106,
   "id": "ff6cfc4c",
   "metadata": {},
   "outputs": [
    {
     "data": {
      "text/plain": [
       "''"
      ]
     },
     "execution_count": 106,
     "metadata": {},
     "output_type": "execute_result"
    }
   ],
   "source": [
    "tool_call.content"
   ]
  },
  {
   "cell_type": "code",
   "execution_count": 107,
   "id": "4b686904",
   "metadata": {},
   "outputs": [
    {
     "data": {
      "text/plain": [
       "[{'name': 'multiply',\n",
       "  'args': {'a': 5, 'b': 6},\n",
       "  'id': 'call_xDkBH7wkY6XetfUo8ZDSp06r',\n",
       "  'type': 'tool_call'}]"
      ]
     },
     "execution_count": 107,
     "metadata": {},
     "output_type": "execute_result"
    }
   ],
   "source": [
    "tool_call.tool_calls"
   ]
  },
  {
   "cell_type": "code",
   "execution_count": 127,
   "id": "a60a1bcf",
   "metadata": {},
   "outputs": [],
   "source": [
    "from langgraph.graph import MessagesState\n",
    "class MessagesState(MessagesState):\n",
    "    pass"
   ]
  },
  {
   "cell_type": "code",
   "execution_count": 128,
   "id": "8810508a",
   "metadata": {},
   "outputs": [
    {
     "data": {
      "image/png": "[encoded data removed]",
      "text/plain": [
       "<IPython.core.display.Image object>"
      ]
     },
     "metadata": {},
     "output_type": "display_data"
    }
   ],
   "source": [
    "from IPython.display import Image, display\n",
    "from langgraph.graph import StateGraph,START,END\n",
    "\n",
    "#node\n",
    "def tool_calling_llm(state:MessagesState):\n",
    "    return {\"messages\":[llm_with_tools.invoke(state[\"messages\"])]}\n",
    "\n",
    "builder = StateGraph(MessagesState)\n",
    "builder.add_node(\"tool_calling_llm\",tool_calling_llm)\n",
    "builder.add_edge(START,'tool_calling_llm')\n",
    "builder.add_edge('tool_calling_llm',END)\n",
    "\n",
    "graph = builder.compile()\n",
    "\n",
    "display(Image(graph.get_graph().draw_mermaid_png()))"
   ]
  },
  {
   "cell_type": "code",
   "execution_count": 129,
   "id": "988f6c31",
   "metadata": {},
   "outputs": [
    {
     "name": "stdout",
     "output_type": "stream",
     "text": [
      "================================\u001b[1m Human Message \u001b[0m=================================\n",
      "\n",
      "Hey there,I'm Aswin\n",
      "==================================\u001b[1m Ai Message \u001b[0m==================================\n",
      "\n",
      "Hello Aswin! Great to meet you. How can I assist you today?\n"
     ]
    }
   ],
   "source": [
    "messages = graph.invoke({\"messages\":HumanMessage(content = \"Hey there,I'm Aswin\")})\n",
    "for m in messages['messages']:\n",
    "    m.pretty_print()"
   ]
  },
  {
   "cell_type": "code",
   "execution_count": 130,
   "id": "83f47447",
   "metadata": {},
   "outputs": [
    {
     "name": "stdout",
     "output_type": "stream",
     "text": [
      "================================\u001b[1m Human Message \u001b[0m=================================\n",
      "\n",
      "what is the product of 2 and 3\n",
      "==================================\u001b[1m Ai Message \u001b[0m==================================\n",
      "Tool Calls:\n",
      "  multiply (call_8X3YZbJcO2Me4YTE4lAIpKuG)\n",
      " Call ID: call_8X3YZbJcO2Me4YTE4lAIpKuG\n",
      "  Args:\n",
      "    a: 2\n",
      "    b: 3\n"
     ]
    }
   ],
   "source": [
    "messages = graph.invoke({\"messages\":HumanMessage(content = \"what is the product of 2 and 3\")})\n",
    "for m in messages['messages']:\n",
    "    m.pretty_print()"
   ]
  },
  {
   "cell_type": "code",
   "execution_count": 131,
   "id": "d8809909",
   "metadata": {},
   "outputs": [
    {
     "data": {
      "image/png": "[encoded data removed]",
      "text/plain": [
       "<IPython.core.display.Image object>"
      ]
     },
     "metadata": {},
     "output_type": "display_data"
    }
   ],
   "source": [
    "from IPython.display import Image, display\n",
    "from langgraph.graph import StateGraph, START, END\n",
    "from langgraph.graph import MessagesState\n",
    "from langgraph.prebuilt import ToolNode\n",
    "from langgraph.prebuilt import tools_condition\n",
    "\n",
    "#Node\n",
    "\n",
    "def tool_calling_llm(state:MessagesState):\n",
    "    return {\"messages\":[llm_with_tools.invoke(state[\"messages\"])]}\n",
    "\n",
    "\n",
    "builder = StateGraph(MessagesState)\n",
    "builder.add_node(\"tool_calling_llm\",tool_calling_llm)\n",
    "builder.add_node(\"tools\",ToolNode([multiply]))\n",
    "\n",
    "builder.add_edge(START,'tool_calling_llm')\n",
    "builder.add_conditional_edges(\n",
    "    \"tool_calling_llm\",\n",
    "    tools_condition ,\n",
    ")\n",
    "builder.add_edge(\"tools\",END)\n",
    "graph = builder.compile()\n",
    "display(Image(graph.get_graph().draw_mermaid_png()))"
   ]
  },
  {
   "cell_type": "code",
   "execution_count": 134,
   "id": "e600a2c9",
   "metadata": {},
   "outputs": [
    {
     "name": "stdout",
     "output_type": "stream",
     "text": [
      "================================\u001b[1m Human Message \u001b[0m=================================\n",
      "\n",
      "What is 5 multiplied by 4?\n",
      "==================================\u001b[1m Ai Message \u001b[0m==================================\n",
      "Tool Calls:\n",
      "  multiply (call_u9dFIfh1aeY97yQcWjeiuyd2)\n",
      " Call ID: call_u9dFIfh1aeY97yQcWjeiuyd2\n",
      "  Args:\n",
      "    a: 5\n",
      "    b: 4\n",
      "=================================\u001b[1m Tool Message \u001b[0m=================================\n",
      "Name: multiply\n",
      "\n",
      "20\n"
     ]
    }
   ],
   "source": [
    "from langchain_core.messages import HumanMessage\n",
    "messages = [HumanMessage(content='What is 5 multiplied by 4?')]\n",
    "response = graph.invoke({\"messages\":messages})\n",
    "for m in response['messages']:\n",
    "    m.pretty_print()"
   ]
  },
  {
   "cell_type": "code",
   "execution_count": 143,
   "id": "9a6348ea",
   "metadata": {},
   "outputs": [],
   "source": [
    "from langchain_openai import ChatOpenAI\n",
    "\n",
    "def multiply(a:int,b:int) -> int:\n",
    "    \"\"\"\n",
    "    Multiply a and b.\n",
    "\n",
    "    Args:\n",
    "        a: first int\n",
    "        b: second int\n",
    "    \"\"\"\n",
    "    return a*b\n",
    "\n",
    "def add(a:int,b:int)-> int:\n",
    "    \"\"\"\n",
    "     Adds a and b.\n",
    "\n",
    "    Args:\n",
    "        a: first int\n",
    "        b: second int\n",
    "    \"\"\"\n",
    "    return a+b\n",
    "\n",
    "def divide(a:int,b:int)-> int:\n",
    "    \"\"\"Divide a and b.\n",
    "\n",
    "    Args:\n",
    "        a: first int\n",
    "        b: second int\n",
    "    \"\"\"\n",
    "    return a/b\n",
    "\n",
    "tools = [multiply,add,divide]"
   ]
  },
  {
   "cell_type": "code",
   "execution_count": 150,
   "id": "2549bdd4",
   "metadata": {},
   "outputs": [],
   "source": [
    "llm = ChatOpenAI(model ='o4-mini-2025-04-16')\n",
    "llm_with_tools = llm.bind_tools(tools)"
   ]
  },
  {
   "cell_type": "code",
   "execution_count": 151,
   "id": "358de62d",
   "metadata": {},
   "outputs": [],
   "source": [
    "from langgraph.graph import MessagesState\n",
    "from langchain_core.messages import HumanMessage,SystemMessage\n",
    "\n",
    "sys_msg = SystemMessage(content=\"You are a helpful assistant tasked with performing arithmetic operations\")\n",
    "\n",
    "def assistant(state:MessagesState):\n",
    "    return {\"messages\":[llm_with_tools.invoke([sys_msg]+state['messages'])]}"
   ]
  },
  {
   "cell_type": "code",
   "execution_count": 152,
   "id": "6a321128",
   "metadata": {},
   "outputs": [
    {
     "data": {
      "image/png": "[encoded data removed]",
      "text/plain": [
       "<IPython.core.display.Image object>"
      ]
     },
     "metadata": {},
     "output_type": "display_data"
    }
   ],
   "source": [
    "from langgraph.graph import START,StateGraph\n",
    "from langgraph.prebuilt import tools_condition\n",
    "from langgraph.prebuilt import ToolNode\n",
    "from IPython.display import Image,display\n",
    "\n",
    "builder = StateGraph(MessagesState)\n",
    "\n",
    "builder.add_node(\"assistant\",assistant)\n",
    "builder.add_node(\"tools\",ToolNode(tools))\n",
    "\n",
    "builder.add_edge(START,\"assistant\")\n",
    "builder.add_conditional_edges(\n",
    "    'assistant',\n",
    "    tools_condition\n",
    ")\n",
    "builder.add_edge(\"tools\",\"assistant\")\n",
    "react_graph = builder.compile()\n",
    "\n",
    "display(Image(react_graph.get_graph(xray=True).draw_mermaid_png()))"
   ]
  },
  {
   "cell_type": "code",
   "execution_count": 156,
   "id": "5ae87fe5",
   "metadata": {},
   "outputs": [],
   "source": [
    "messages=[HumanMessage(content='Add 10+5.Multiply the output by 3 and later divide by 9')]\n",
    "response = react_graph.invoke({\"messages\":messages} )"
   ]
  },
  {
   "cell_type": "code",
   "execution_count": 157,
   "id": "5713ae92",
   "metadata": {},
   "outputs": [
    {
     "name": "stdout",
     "output_type": "stream",
     "text": [
      "================================\u001b[1m Human Message \u001b[0m=================================\n",
      "\n",
      "Add 10+5.Multiply the output by 3 and later divide by 9\n",
      "==================================\u001b[1m Ai Message \u001b[0m==================================\n",
      "Tool Calls:\n",
      "  add (call_spzWLcFC2ZkIzJvQkiW4wBvk)\n",
      " Call ID: call_spzWLcFC2ZkIzJvQkiW4wBvk\n",
      "  Args:\n",
      "    a: 10\n",
      "    b: 5\n",
      "=================================\u001b[1m Tool Message \u001b[0m=================================\n",
      "Name: add\n",
      "\n",
      "15\n",
      "==================================\u001b[1m Ai Message \u001b[0m==================================\n",
      "Tool Calls:\n",
      "  multiply (call_LNQoo3x4XsZPepWur4llUSjZ)\n",
      " Call ID: call_LNQoo3x4XsZPepWur4llUSjZ\n",
      "  Args:\n",
      "    a: 15\n",
      "    b: 3\n",
      "=================================\u001b[1m Tool Message \u001b[0m=================================\n",
      "Name: multiply\n",
      "\n",
      "45\n",
      "==================================\u001b[1m Ai Message \u001b[0m==================================\n",
      "Tool Calls:\n",
      "  divide (call_EyNh2wqwA86z9AjwoLWBZCpo)\n",
      " Call ID: call_EyNh2wqwA86z9AjwoLWBZCpo\n",
      "  Args:\n",
      "    a: 45\n",
      "    b: 9\n",
      "=================================\u001b[1m Tool Message \u001b[0m=================================\n",
      "Name: divide\n",
      "\n",
      "5.0\n",
      "==================================\u001b[1m Ai Message \u001b[0m==================================\n",
      "\n",
      "The result is 5.0.\n"
     ]
    }
   ],
   "source": [
    "for m in response['messages']:\n",
    "    m.pretty_print()"
   ]
  },
  {
   "cell_type": "code",
   "execution_count": null,
   "id": "f4bed0fb",
   "metadata": {},
   "outputs": [],
   "source": []
  }
 ],
 "metadata": {
  "kernelspec": {
   "display_name": "python-env",
   "language": "python",
   "name": "python3"
  },
  "language_info": {
   "codemirror_mode": {
    "name": "ipython",
    "version": 3
   },
   "file_extension": ".py",
   "mimetype": "text/x-python",
   "name": "python",
   "nbconvert_exporter": "python",
   "pygments_lexer": "ipython3",
   "version": "3.12.4"
  }
 },
 "nbformat": 4,
 "nbformat_minor": 5
}
